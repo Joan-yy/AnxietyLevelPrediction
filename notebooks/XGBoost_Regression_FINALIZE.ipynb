{
  "nbformat": 4,
  "nbformat_minor": 0,
  "metadata": {
    "colab": {
      "provenance": [],
      "include_colab_link": true
    },
    "kernelspec": {
      "name": "python3",
      "display_name": "Python 3"
    },
    "language_info": {
      "name": "python"
    }
  },
  "cells": [
    {
      "cell_type": "markdown",
      "metadata": {
        "id": "view-in-github",
        "colab_type": "text"
      },
      "source": [
        "<a href=\"https://colab.research.google.com/github/Joan-yy/AnxietyLevelPrediction/blob/main/XGBoost_Regression_FINALIZE.ipynb\" target=\"_parent\"><img src=\"https://colab.research.google.com/assets/colab-badge.svg\" alt=\"Open In Colab\"/></a>"
      ]
    },
    {
      "cell_type": "code",
      "execution_count": null,
      "metadata": {
        "colab": {
          "base_uri": "https://localhost:8080/",
          "height": 371
        },
        "id": "vJCDZWrmyf8k",
        "outputId": "032b6f0b-788f-44c1-c242-282dbefa2f14"
      },
      "outputs": [
        {
          "output_type": "error",
          "ename": "FileNotFoundError",
          "evalue": "[Errno 2] No such file or directory: '/content/enhanced_anxiety_dataset.csv'",
          "traceback": [
            "\u001b[0;31m---------------------------------------------------------------------------\u001b[0m",
            "\u001b[0;31mFileNotFoundError\u001b[0m                         Traceback (most recent call last)",
            "\u001b[0;32m<ipython-input-1-3489287392>\u001b[0m in \u001b[0;36m<cell line: 0>\u001b[0;34m()\u001b[0m\n\u001b[1;32m     10\u001b[0m \u001b[0;34m\u001b[0m\u001b[0m\n\u001b[1;32m     11\u001b[0m \u001b[0;31m# STEP 2: Load and preprocess dataset\u001b[0m\u001b[0;34m\u001b[0m\u001b[0;34m\u001b[0m\u001b[0m\n\u001b[0;32m---> 12\u001b[0;31m \u001b[0mdf\u001b[0m \u001b[0;34m=\u001b[0m \u001b[0mpd\u001b[0m\u001b[0;34m.\u001b[0m\u001b[0mread_csv\u001b[0m\u001b[0;34m(\u001b[0m\u001b[0;34m'/content/enhanced_anxiety_dataset.csv'\u001b[0m\u001b[0;34m)\u001b[0m\u001b[0;34m\u001b[0m\u001b[0;34m\u001b[0m\u001b[0m\n\u001b[0m\u001b[1;32m     13\u001b[0m \u001b[0;34m\u001b[0m\u001b[0m\n\u001b[1;32m     14\u001b[0m \u001b[0;31m# Fill missing values\u001b[0m\u001b[0;34m\u001b[0m\u001b[0;34m\u001b[0m\u001b[0m\n",
            "\u001b[0;32m/usr/local/lib/python3.11/dist-packages/pandas/io/parsers/readers.py\u001b[0m in \u001b[0;36mread_csv\u001b[0;34m(filepath_or_buffer, sep, delimiter, header, names, index_col, usecols, dtype, engine, converters, true_values, false_values, skipinitialspace, skiprows, skipfooter, nrows, na_values, keep_default_na, na_filter, verbose, skip_blank_lines, parse_dates, infer_datetime_format, keep_date_col, date_parser, date_format, dayfirst, cache_dates, iterator, chunksize, compression, thousands, decimal, lineterminator, quotechar, quoting, doublequote, escapechar, comment, encoding, encoding_errors, dialect, on_bad_lines, delim_whitespace, low_memory, memory_map, float_precision, storage_options, dtype_backend)\u001b[0m\n\u001b[1;32m   1024\u001b[0m     \u001b[0mkwds\u001b[0m\u001b[0;34m.\u001b[0m\u001b[0mupdate\u001b[0m\u001b[0;34m(\u001b[0m\u001b[0mkwds_defaults\u001b[0m\u001b[0;34m)\u001b[0m\u001b[0;34m\u001b[0m\u001b[0;34m\u001b[0m\u001b[0m\n\u001b[1;32m   1025\u001b[0m \u001b[0;34m\u001b[0m\u001b[0m\n\u001b[0;32m-> 1026\u001b[0;31m     \u001b[0;32mreturn\u001b[0m \u001b[0m_read\u001b[0m\u001b[0;34m(\u001b[0m\u001b[0mfilepath_or_buffer\u001b[0m\u001b[0;34m,\u001b[0m \u001b[0mkwds\u001b[0m\u001b[0;34m)\u001b[0m\u001b[0;34m\u001b[0m\u001b[0;34m\u001b[0m\u001b[0m\n\u001b[0m\u001b[1;32m   1027\u001b[0m \u001b[0;34m\u001b[0m\u001b[0m\n\u001b[1;32m   1028\u001b[0m \u001b[0;34m\u001b[0m\u001b[0m\n",
            "\u001b[0;32m/usr/local/lib/python3.11/dist-packages/pandas/io/parsers/readers.py\u001b[0m in \u001b[0;36m_read\u001b[0;34m(filepath_or_buffer, kwds)\u001b[0m\n\u001b[1;32m    618\u001b[0m \u001b[0;34m\u001b[0m\u001b[0m\n\u001b[1;32m    619\u001b[0m     \u001b[0;31m# Create the parser.\u001b[0m\u001b[0;34m\u001b[0m\u001b[0;34m\u001b[0m\u001b[0m\n\u001b[0;32m--> 620\u001b[0;31m     \u001b[0mparser\u001b[0m \u001b[0;34m=\u001b[0m \u001b[0mTextFileReader\u001b[0m\u001b[0;34m(\u001b[0m\u001b[0mfilepath_or_buffer\u001b[0m\u001b[0;34m,\u001b[0m \u001b[0;34m**\u001b[0m\u001b[0mkwds\u001b[0m\u001b[0;34m)\u001b[0m\u001b[0;34m\u001b[0m\u001b[0;34m\u001b[0m\u001b[0m\n\u001b[0m\u001b[1;32m    621\u001b[0m \u001b[0;34m\u001b[0m\u001b[0m\n\u001b[1;32m    622\u001b[0m     \u001b[0;32mif\u001b[0m \u001b[0mchunksize\u001b[0m \u001b[0;32mor\u001b[0m \u001b[0miterator\u001b[0m\u001b[0;34m:\u001b[0m\u001b[0;34m\u001b[0m\u001b[0;34m\u001b[0m\u001b[0m\n",
            "\u001b[0;32m/usr/local/lib/python3.11/dist-packages/pandas/io/parsers/readers.py\u001b[0m in \u001b[0;36m__init__\u001b[0;34m(self, f, engine, **kwds)\u001b[0m\n\u001b[1;32m   1618\u001b[0m \u001b[0;34m\u001b[0m\u001b[0m\n\u001b[1;32m   1619\u001b[0m         \u001b[0mself\u001b[0m\u001b[0;34m.\u001b[0m\u001b[0mhandles\u001b[0m\u001b[0;34m:\u001b[0m \u001b[0mIOHandles\u001b[0m \u001b[0;34m|\u001b[0m \u001b[0;32mNone\u001b[0m \u001b[0;34m=\u001b[0m \u001b[0;32mNone\u001b[0m\u001b[0;34m\u001b[0m\u001b[0;34m\u001b[0m\u001b[0m\n\u001b[0;32m-> 1620\u001b[0;31m         \u001b[0mself\u001b[0m\u001b[0;34m.\u001b[0m\u001b[0m_engine\u001b[0m \u001b[0;34m=\u001b[0m \u001b[0mself\u001b[0m\u001b[0;34m.\u001b[0m\u001b[0m_make_engine\u001b[0m\u001b[0;34m(\u001b[0m\u001b[0mf\u001b[0m\u001b[0;34m,\u001b[0m \u001b[0mself\u001b[0m\u001b[0;34m.\u001b[0m\u001b[0mengine\u001b[0m\u001b[0;34m)\u001b[0m\u001b[0;34m\u001b[0m\u001b[0;34m\u001b[0m\u001b[0m\n\u001b[0m\u001b[1;32m   1621\u001b[0m \u001b[0;34m\u001b[0m\u001b[0m\n\u001b[1;32m   1622\u001b[0m     \u001b[0;32mdef\u001b[0m \u001b[0mclose\u001b[0m\u001b[0;34m(\u001b[0m\u001b[0mself\u001b[0m\u001b[0;34m)\u001b[0m \u001b[0;34m->\u001b[0m \u001b[0;32mNone\u001b[0m\u001b[0;34m:\u001b[0m\u001b[0;34m\u001b[0m\u001b[0;34m\u001b[0m\u001b[0m\n",
            "\u001b[0;32m/usr/local/lib/python3.11/dist-packages/pandas/io/parsers/readers.py\u001b[0m in \u001b[0;36m_make_engine\u001b[0;34m(self, f, engine)\u001b[0m\n\u001b[1;32m   1878\u001b[0m                 \u001b[0;32mif\u001b[0m \u001b[0;34m\"b\"\u001b[0m \u001b[0;32mnot\u001b[0m \u001b[0;32min\u001b[0m \u001b[0mmode\u001b[0m\u001b[0;34m:\u001b[0m\u001b[0;34m\u001b[0m\u001b[0;34m\u001b[0m\u001b[0m\n\u001b[1;32m   1879\u001b[0m                     \u001b[0mmode\u001b[0m \u001b[0;34m+=\u001b[0m \u001b[0;34m\"b\"\u001b[0m\u001b[0;34m\u001b[0m\u001b[0;34m\u001b[0m\u001b[0m\n\u001b[0;32m-> 1880\u001b[0;31m             self.handles = get_handle(\n\u001b[0m\u001b[1;32m   1881\u001b[0m                 \u001b[0mf\u001b[0m\u001b[0;34m,\u001b[0m\u001b[0;34m\u001b[0m\u001b[0;34m\u001b[0m\u001b[0m\n\u001b[1;32m   1882\u001b[0m                 \u001b[0mmode\u001b[0m\u001b[0;34m,\u001b[0m\u001b[0;34m\u001b[0m\u001b[0;34m\u001b[0m\u001b[0m\n",
            "\u001b[0;32m/usr/local/lib/python3.11/dist-packages/pandas/io/common.py\u001b[0m in \u001b[0;36mget_handle\u001b[0;34m(path_or_buf, mode, encoding, compression, memory_map, is_text, errors, storage_options)\u001b[0m\n\u001b[1;32m    871\u001b[0m         \u001b[0;32mif\u001b[0m \u001b[0mioargs\u001b[0m\u001b[0;34m.\u001b[0m\u001b[0mencoding\u001b[0m \u001b[0;32mand\u001b[0m \u001b[0;34m\"b\"\u001b[0m \u001b[0;32mnot\u001b[0m \u001b[0;32min\u001b[0m \u001b[0mioargs\u001b[0m\u001b[0;34m.\u001b[0m\u001b[0mmode\u001b[0m\u001b[0;34m:\u001b[0m\u001b[0;34m\u001b[0m\u001b[0;34m\u001b[0m\u001b[0m\n\u001b[1;32m    872\u001b[0m             \u001b[0;31m# Encoding\u001b[0m\u001b[0;34m\u001b[0m\u001b[0;34m\u001b[0m\u001b[0m\n\u001b[0;32m--> 873\u001b[0;31m             handle = open(\n\u001b[0m\u001b[1;32m    874\u001b[0m                 \u001b[0mhandle\u001b[0m\u001b[0;34m,\u001b[0m\u001b[0;34m\u001b[0m\u001b[0;34m\u001b[0m\u001b[0m\n\u001b[1;32m    875\u001b[0m                 \u001b[0mioargs\u001b[0m\u001b[0;34m.\u001b[0m\u001b[0mmode\u001b[0m\u001b[0;34m,\u001b[0m\u001b[0;34m\u001b[0m\u001b[0;34m\u001b[0m\u001b[0m\n",
            "\u001b[0;31mFileNotFoundError\u001b[0m: [Errno 2] No such file or directory: '/content/enhanced_anxiety_dataset.csv'"
          ]
        }
      ],
      "source": [
        "# STEP 1: Import libraries\n",
        "import pandas as pd\n",
        "import numpy as np\n",
        "from sklearn.model_selection import train_test_split, RandomizedSearchCV\n",
        "from sklearn.metrics import mean_squared_error, mean_absolute_error, r2_score\n",
        "import matplotlib.pyplot as plt\n",
        "import seaborn as sns\n",
        "import xgboost as xgb\n",
        "from scipy.stats import uniform, randint\n",
        "\n",
        "# STEP 2: Load and preprocess dataset\n",
        "df = pd.read_csv('/content/enhanced_anxiety_dataset.csv')\n",
        "\n",
        "# Fill missing values\n",
        "for col in df.columns:\n",
        "    if df[col].dtype in ['int64', 'float64']:\n",
        "        df[col].fillna(df[col].mean(), inplace=True)\n",
        "    else:\n",
        "        df[col].fillna(df[col].mode()[0], inplace=True)\n",
        "\n",
        "# Encode binary variables\n",
        "binary_cols = ['Gender', 'Smoking', 'Family History of Anxiety', 'Dizziness', 'Medication', 'Recent Major Life Event']\n",
        "for col in binary_cols:\n",
        "    df[col] = df[col].map({'Yes': 1, 'No': 0, 'Male': 1, 'Female': 0})\n",
        "\n",
        "# One-hot encode 'Occupation'\n",
        "df = pd.get_dummies(df, columns=['Occupation'], drop_first=True)\n",
        "\n",
        "# Target and Features\n",
        "X = df.drop(columns=['Anxiety Level (1-10)'])\n",
        "y = df['Anxiety Level (1-10)']\n",
        "\n",
        "# Train-test split\n",
        "X_train, X_test, y_train, y_test = train_test_split(X, y, test_size=0.3, random_state=42)\n"
      ]
    },
    {
      "cell_type": "markdown",
      "source": [
        "Untuned XGBoost Regressor"
      ],
      "metadata": {
        "id": "J7e8qB5CzKpv"
      }
    },
    {
      "cell_type": "code",
      "source": [
        "# Untuned XGBoost Regressor\n",
        "model_untuned = xgb.XGBRegressor(objective='reg:squarederror', random_state=42)\n",
        "model_untuned.fit(X_train, y_train)\n",
        "y_pred_untuned = model_untuned.predict(X_test)\n",
        "\n",
        "# Evaluation metrics\n",
        "print(\"🔹 UNTUNED XGBoost Regressor\")\n",
        "print(\"MSE:\", mean_squared_error(y_test, y_pred_untuned))\n",
        "print(\"MAE:\", mean_absolute_error(y_test, y_pred_untuned))\n",
        "print(\"R² Score:\", r2_score(y_test, y_pred_untuned))\n",
        "\n",
        "# Plot prediction error\n",
        "errors = y_test - y_pred_untuned\n",
        "plt.hist(errors, bins=20, edgecolor='black')\n",
        "plt.title(\"Prediction Errors - Untuned\")\n",
        "plt.xlabel(\"Error\")\n",
        "plt.ylabel(\"Frequency\")\n",
        "plt.show()\n"
      ],
      "metadata": {
        "colab": {
          "base_uri": "https://localhost:8080/",
          "height": 541
        },
        "id": "ih-P-A7Qyqci",
        "outputId": "6f6c6fa1-4377-40d9-f11e-2f248f69aa8b"
      },
      "execution_count": null,
      "outputs": [
        {
          "output_type": "stream",
          "name": "stdout",
          "text": [
            "🔹 UNTUNED XGBoost Regressor\n",
            "MSE: 1.1565468311309814\n",
            "MAE: 0.8686062693595886\n",
            "R² Score: 0.7487301826477051\n"
          ]
        },
        {
          "output_type": "display_data",
          "data": {
            "text/plain": [
              "<Figure size 640x480 with 1 Axes>"
            ],
            "image/png": "[encoded data removed]"
          },
          "metadata": {}
        }
      ]
    },
    {
      "cell_type": "markdown",
      "source": [
        "Tuning XGBoost Regressor"
      ],
      "metadata": {
        "id": "yxZEZDXvzOxt"
      }
    },
    {
      "cell_type": "code",
      "source": [
        "# Define parameter grid\n",
        "param_dist = {\n",
        "    'n_estimators': randint(100, 300),\n",
        "    'max_depth': randint(3, 10),\n",
        "    'learning_rate': uniform(0.01, 0.3),\n",
        "    'subsample': uniform(0.6, 0.4),\n",
        "    'colsample_bytree': uniform(0.6, 0.4),\n",
        "    'gamma': uniform(0, 0.5),\n",
        "    'reg_alpha': uniform(0, 1),\n",
        "    'reg_lambda': uniform(0, 1)\n",
        "}\n",
        "\n",
        "search = RandomizedSearchCV(\n",
        "    estimator=xgb.XGBRegressor(objective='reg:squarederror', random_state=42),\n",
        "    param_distributions=param_dist,\n",
        "    n_iter=50,\n",
        "    scoring='neg_mean_squared_error',\n",
        "    cv=3,\n",
        "    verbose=1,\n",
        "    n_jobs=-1,\n",
        "    random_state=42\n",
        ")\n",
        "\n",
        "search.fit(X_train, y_train)\n",
        "\n",
        "print(\"✅ Best Parameters from Tuning:\")\n",
        "print(search.best_params_)\n"
      ],
      "metadata": {
        "colab": {
          "base_uri": "https://localhost:8080/"
        },
        "id": "t7qzYvguyty5",
        "outputId": "206a36a2-b4b2-409d-d54f-b9f5878e986c"
      },
      "execution_count": null,
      "outputs": [
        {
          "output_type": "stream",
          "name": "stdout",
          "text": [
            "Fitting 3 folds for each of 50 candidates, totalling 150 fits\n",
            "✅ Best Parameters from Tuning:\n",
            "{'colsample_bytree': np.float64(0.8232408008069365), 'gamma': np.float64(0.2019180855290204), 'learning_rate': np.float64(0.029467674132694466), 'max_depth': 4, 'n_estimators': 151, 'reg_alpha': np.float64(0.2468760628386012), 'reg_lambda': np.float64(0.6963042728397884), 'subsample': np.float64(0.8849082359697769)}\n"
          ]
        }
      ]
    },
    {
      "cell_type": "code",
      "source": [
        "# Train best model from tuning\n",
        "model_tuned = xgb.XGBRegressor(\n",
        "    objective='reg:squarederror',\n",
        "    random_state=42,\n",
        "    **search.best_params_\n",
        ")\n",
        "\n",
        "model_tuned.fit(X_train, y_train)\n",
        "y_pred_tuned = model_tuned.predict(X_test)\n",
        "\n",
        "# Evaluation metrics\n",
        "print(\"🔹 TUNED XGBoost Regressor\")\n",
        "print(\"MSE:\", mean_squared_error(y_test, y_pred_tuned))\n",
        "print(\"MAE:\", mean_absolute_error(y_test, y_pred_tuned))\n",
        "print(\"R² Score:\", r2_score(y_test, y_pred_tuned))\n",
        "\n",
        "# Plot prediction error\n",
        "errors = y_test - y_pred_tuned\n",
        "plt.hist(errors, bins=20, edgecolor='black', color='green')\n",
        "plt.title(\"Prediction Errors - Tuned\")\n",
        "plt.xlabel(\"Error\")\n",
        "plt.ylabel(\"Frequency\")\n",
        "plt.show()\n"
      ],
      "metadata": {
        "colab": {
          "base_uri": "https://localhost:8080/",
          "height": 541
        },
        "id": "Nv-5mXRGyvdS",
        "outputId": "9404a2a1-40ae-4095-95d3-1332eea50130"
      },
      "execution_count": null,
      "outputs": [
        {
          "output_type": "stream",
          "name": "stdout",
          "text": [
            "🔹 TUNED XGBoost Regressor\n",
            "MSE: 1.0089893341064453\n",
            "MAE: 0.8110315799713135\n",
            "R² Score: 0.7807883024215698\n"
          ]
        },
        {
          "output_type": "display_data",
          "data": {
            "text/plain": [
              "<Figure size 640x480 with 1 Axes>"
            ],
            "image/png": "[encoded data removed]"
          },
          "metadata": {}
        }
      ]
    },
    {
      "cell_type": "markdown",
      "source": [
        "Changing it into 3 Category of Anxiety Level"
      ],
      "metadata": {
        "id": "69MgQ6MWzXnJ"
      }
    },
    {
      "cell_type": "code",
      "source": [
        "# STEP 1: Import libraries\n",
        "import pandas as pd\n",
        "import numpy as np\n",
        "from sklearn.model_selection import train_test_split, RandomizedSearchCV\n",
        "from sklearn.metrics import mean_squared_error, mean_absolute_error, r2_score, accuracy_score, f1_score, classification_report, confusion_matrix\n",
        "import matplotlib.pyplot as plt\n",
        "import seaborn as sns\n",
        "import xgboost as xgb\n",
        "from scipy.stats import uniform, randint\n",
        "\n",
        "# STEP 2: Load and preprocess dataset\n",
        "df = pd.read_csv('/content/enhanced_anxiety_dataset.csv')\n",
        "\n",
        "# Fill missing values\n",
        "for col in df.columns:\n",
        "    if df[col].dtype in ['int64', 'float64']:\n",
        "        df[col].fillna(df[col].mean(), inplace=True)\n",
        "    else:\n",
        "        df[col].fillna(df[col].mode()[0], inplace=True)\n",
        "\n",
        "# Encode binary variables\n",
        "binary_cols = ['Gender', 'Smoking', 'Family History of Anxiety', 'Dizziness', 'Medication', 'Recent Major Life Event']\n",
        "for col in binary_cols:\n",
        "    df[col] = df[col].map({'Yes': 1, 'No': 0, 'Male': 1, 'Female': 0})\n",
        "\n",
        "# One-hot encode 'Occupation'\n",
        "df = pd.get_dummies(df, columns=['Occupation'], drop_first=True)\n",
        "\n",
        "# Features and Target\n",
        "X = df.drop(columns=['Anxiety Level (1-10)'])\n",
        "y = df['Anxiety Level (1-10)']\n",
        "\n",
        "# Split\n",
        "X_train, X_test, y_train, y_test = train_test_split(X, y, test_size=0.3, random_state=42)\n",
        "\n",
        "# Anxiety level to category\n",
        "def map_anxiety(score):\n",
        "    if score <= 3:\n",
        "        return 'Low'\n",
        "    elif score <= 6:\n",
        "        return 'Medium'\n",
        "    else:\n",
        "        return 'High'\n"
      ],
      "metadata": {
        "colab": {
          "base_uri": "https://localhost:8080/"
        },
        "id": "ZzQD3A90yxLs",
        "outputId": "dad5fa8e-53e3-4ead-deb3-19d7d1496493"
      },
      "execution_count": null,
      "outputs": [
        {
          "output_type": "stream",
          "name": "stderr",
          "text": [
            "<ipython-input-7-2987523371>:17: FutureWarning: A value is trying to be set on a copy of a DataFrame or Series through chained assignment using an inplace method.\n",
            "The behavior will change in pandas 3.0. This inplace method will never work because the intermediate object on which we are setting values always behaves as a copy.\n",
            "\n",
            "For example, when doing 'df[col].method(value, inplace=True)', try using 'df.method({col: value}, inplace=True)' or df[col] = df[col].method(value) instead, to perform the operation inplace on the original object.\n",
            "\n",
            "\n",
            "  df[col].fillna(df[col].mean(), inplace=True)\n",
            "<ipython-input-7-2987523371>:19: FutureWarning: A value is trying to be set on a copy of a DataFrame or Series through chained assignment using an inplace method.\n",
            "The behavior will change in pandas 3.0. This inplace method will never work because the intermediate object on which we are setting values always behaves as a copy.\n",
            "\n",
            "For example, when doing 'df[col].method(value, inplace=True)', try using 'df.method({col: value}, inplace=True)' or df[col] = df[col].method(value) instead, to perform the operation inplace on the original object.\n",
            "\n",
            "\n",
            "  df[col].fillna(df[col].mode()[0], inplace=True)\n"
          ]
        }
      ]
    },
    {
      "cell_type": "markdown",
      "source": [
        "Resullt for the Untuned XGBoost Regressor"
      ],
      "metadata": {
        "id": "SkDSeMGwzfJ2"
      }
    },
    {
      "cell_type": "code",
      "source": [
        "model_untuned = xgb.XGBRegressor(objective='reg:squarederror', random_state=42)\n",
        "model_untuned.fit(X_train, y_train)\n",
        "y_pred_untuned = model_untuned.predict(X_test)\n",
        "y_pred_round = np.round(y_pred_untuned).astype(int)\n",
        "\n",
        "# Metrics\n",
        "print(\"🔹 UNTUNED XGBoost Regressor\")\n",
        "print(\"MSE:\", mean_squared_error(y_test, y_pred_round))\n",
        "print(\"MAE:\", mean_absolute_error(y_test, y_pred_round))\n",
        "print(\"R² Score:\", r2_score(y_test, y_pred_round))\n",
        "\n",
        "# Convert to category\n",
        "y_pred_cat = pd.Series(y_pred_round).apply(map_anxiety)\n",
        "y_true_cat = y_test.apply(map_anxiety)\n",
        "\n",
        "# Classification Metrics\n",
        "print(\"Accuracy:\", accuracy_score(y_true_cat, y_pred_cat))\n",
        "print(\"F1 Score (Macro):\", f1_score(y_true_cat, y_pred_cat, average='macro'))\n",
        "print(\"\\nClassification Report:\\n\", classification_report(y_true_cat, y_pred_cat))\n",
        "\n",
        "# Confusion Matrix\n",
        "cm = confusion_matrix(y_true_cat, y_pred_cat, labels=[\"Low\", \"Medium\", \"High\"])\n",
        "sns.heatmap(cm, annot=True, fmt='d', cmap='Blues', xticklabels=[\"Low\", \"Medium\", \"High\"], yticklabels=[\"Low\", \"Medium\", \"High\"])\n",
        "plt.title(\"Confusion Matrix - Untuned\")\n",
        "plt.xlabel(\"Predicted\")\n",
        "plt.ylabel(\"Actual\")\n",
        "plt.show()\n"
      ],
      "metadata": {
        "colab": {
          "base_uri": "https://localhost:8080/",
          "height": 784
        },
        "id": "XjrLC125yy4b",
        "outputId": "8bf86d29-cc25-460f-f020-5c9210c157d8"
      },
      "execution_count": null,
      "outputs": [
        {
          "output_type": "stream",
          "name": "stdout",
          "text": [
            "🔹 UNTUNED XGBoost Regressor\n",
            "MSE: 1.2324242424242424\n",
            "MAE: 0.8384848484848485\n",
            "R² Score: 0.7322451326723363\n",
            "Accuracy: 0.7727272727272727\n",
            "F1 Score (Macro): 0.8098868264654895\n",
            "\n",
            "Classification Report:\n",
            "               precision    recall  f1-score   support\n",
            "\n",
            "        High       0.98      0.87      0.92       357\n",
            "         Low       0.77      0.78      0.78      1543\n",
            "      Medium       0.73      0.74      0.73      1400\n",
            "\n",
            "    accuracy                           0.77      3300\n",
            "   macro avg       0.83      0.80      0.81      3300\n",
            "weighted avg       0.78      0.77      0.77      3300\n",
            "\n"
          ]
        },
        {
          "output_type": "display_data",
          "data": {
            "text/plain": [
              "<Figure size 640x480 with 2 Axes>"
            ],
            "image/png": "[encoded data removed]"
          },
          "metadata": {}
        }
      ]
    },
    {
      "cell_type": "markdown",
      "source": [
        "Tuning the XGBoost Regressor"
      ],
      "metadata": {
        "id": "yvG6AgSKzlbX"
      }
    },
    {
      "cell_type": "code",
      "source": [
        "param_dist = {\n",
        "    'n_estimators': randint(100, 300),\n",
        "    'max_depth': randint(3, 10),\n",
        "    'learning_rate': uniform(0.01, 0.3),\n",
        "    'subsample': uniform(0.6, 0.4),\n",
        "    'colsample_bytree': uniform(0.6, 0.4),\n",
        "    'gamma': uniform(0, 0.5),\n",
        "    'reg_alpha': uniform(0, 1),\n",
        "    'reg_lambda': uniform(0, 1)\n",
        "}\n",
        "\n",
        "search = RandomizedSearchCV(\n",
        "    estimator=xgb.XGBRegressor(objective='reg:squarederror', random_state=42),\n",
        "    param_distributions=param_dist,\n",
        "    n_iter=50,\n",
        "    scoring='neg_mean_squared_error',\n",
        "    cv=3,\n",
        "    verbose=1,\n",
        "    n_jobs=-1,\n",
        "    random_state=42\n",
        ")\n",
        "\n",
        "search.fit(X_train, y_train)\n",
        "\n",
        "print(\"✅ Best Parameters from Tuning:\")\n",
        "print(search.best_params_)\n"
      ],
      "metadata": {
        "colab": {
          "base_uri": "https://localhost:8080/"
        },
        "id": "Iu82yUX7y0ZN",
        "outputId": "afe0597a-b4b9-403d-e5e1-8d0c7fd57e6f"
      },
      "execution_count": null,
      "outputs": [
        {
          "output_type": "stream",
          "name": "stdout",
          "text": [
            "Fitting 3 folds for each of 50 candidates, totalling 150 fits\n",
            "✅ Best Parameters from Tuning:\n",
            "{'colsample_bytree': np.float64(0.8232408008069365), 'gamma': np.float64(0.2019180855290204), 'learning_rate': np.float64(0.029467674132694466), 'max_depth': 4, 'n_estimators': 151, 'reg_alpha': np.float64(0.2468760628386012), 'reg_lambda': np.float64(0.6963042728397884), 'subsample': np.float64(0.8849082359697769)}\n"
          ]
        }
      ]
    },
    {
      "cell_type": "markdown",
      "source": [
        "Result for the Tuned XGBoost Regressor"
      ],
      "metadata": {
        "id": "IyKoyyT1zp-8"
      }
    },
    {
      "cell_type": "code",
      "source": [
        "model_tuned = xgb.XGBRegressor(objective='reg:squarederror', random_state=42, **search.best_params_)\n",
        "model_tuned.fit(X_train, y_train)\n",
        "y_pred_tuned = model_tuned.predict(X_test)\n",
        "y_pred_round_tuned = np.round(y_pred_tuned).astype(int)\n",
        "\n",
        "print(\"🔹 TUNED XGBoost Regressor\")\n",
        "print(\"MSE:\", mean_squared_error(y_test, y_pred_round_tuned))\n",
        "print(\"MAE:\", mean_absolute_error(y_test, y_pred_round_tuned))\n",
        "print(\"R² Score:\", r2_score(y_test, y_pred_round_tuned))\n",
        "\n",
        "# Convert to categories\n",
        "y_pred_cat_tuned = pd.Series(y_pred_round_tuned).apply(map_anxiety)\n",
        "y_true_cat = y_test.apply(map_anxiety)  # Already defined\n",
        "\n",
        "# Classification Metrics\n",
        "print(\"Accuracy:\", accuracy_score(y_true_cat, y_pred_cat_tuned))\n",
        "print(\"F1 Score (Macro):\", f1_score(y_true_cat, y_pred_cat_tuned, average='macro'))\n",
        "print(\"\\nClassification Report:\\n\", classification_report(y_true_cat, y_pred_cat_tuned))\n",
        "\n",
        "# Confusion Matrix\n",
        "cm = confusion_matrix(y_true_cat, y_pred_cat_tuned, labels=[\"Low\", \"Medium\", \"High\"])\n",
        "sns.heatmap(cm, annot=True, fmt='d', cmap='Greens', xticklabels=[\"Low\", \"Medium\", \"High\"], yticklabels=[\"Low\", \"Medium\", \"High\"])\n",
        "plt.title(\"Confusion Matrix - Tuned\")\n",
        "plt.xlabel(\"Predicted\")\n",
        "plt.ylabel(\"Actual\")\n",
        "plt.show()\n"
      ],
      "metadata": {
        "colab": {
          "base_uri": "https://localhost:8080/",
          "height": 784
        },
        "id": "X6PpRunwy2HJ",
        "outputId": "1ae207d1-61ba-4972-a1d0-d1056f3ac094"
      },
      "execution_count": null,
      "outputs": [
        {
          "output_type": "stream",
          "name": "stdout",
          "text": [
            "🔹 TUNED XGBoost Regressor\n",
            "MSE: 1.072121212121212\n",
            "MAE: 0.7763636363636364\n",
            "R² Score: 0.7670723578546166\n",
            "Accuracy: 0.7936363636363636\n",
            "F1 Score (Macro): 0.8267188970300587\n",
            "\n",
            "Classification Report:\n",
            "               precision    recall  f1-score   support\n",
            "\n",
            "        High       0.98      0.87      0.92       357\n",
            "         Low       0.79      0.80      0.80      1543\n",
            "      Medium       0.75      0.77      0.76      1400\n",
            "\n",
            "    accuracy                           0.79      3300\n",
            "   macro avg       0.84      0.81      0.83      3300\n",
            "weighted avg       0.80      0.79      0.79      3300\n",
            "\n"
          ]
        },
        {
          "output_type": "display_data",
          "data": {
            "text/plain": [
              "<Figure size 640x480 with 2 Axes>"
            ],
            "image/png": "[encoded data removed]"
          },
          "metadata": {}
        }
      ]
    },
    {
      "cell_type": "code",
      "source": [
        "# Save model\n",
        "# Import joblib\n",
        "import joblib\n",
        "\n",
        "# Change 'model' to the correct variable name for the tuned model, which is 'model_tuned'\n",
        "joblib.dump(model_tuned, 'model.pkl')\n",
        "\n",
        "# Save columns to use in Streamlit app\n",
        "joblib.dump(X.columns.tolist(), 'model_features.pkl')\n",
        "\n",
        "from google.colab import files\n",
        "files.download('model.pkl')\n",
        "files.download('model_features.pkl')"
      ],
      "metadata": {
        "colab": {
          "base_uri": "https://localhost:8080/",
          "height": 17
        },
        "id": "ae-CeBhMztIE",
        "outputId": "274fe3e4-4897-4911-db32-1e3ad189b5a5"
      },
      "execution_count": null,
      "outputs": [
        {
          "output_type": "display_data",
          "data": {
            "text/plain": [
              "<IPython.core.display.Javascript object>"
            ],
            "application/javascript": [
              "\n",
              "    async function download(id, filename, size) {\n",
              "      if (!google.colab.kernel.accessAllowed) {\n",
              "        return;\n",
              "      }\n",
              "      const div = document.createElement('div');\n",
              "      const label = document.createElement('label');\n",
              "      label.textContent = `Downloading \"${filename}\": `;\n",
              "      div.appendChild(label);\n",
              "      const progress = document.createElement('progress');\n",
              "      progress.max = size;\n",
              "      div.appendChild(progress);\n",
              "      document.body.appendChild(div);\n",
              "\n",
              "      const buffers = [];\n",
              "      let downloaded = 0;\n",
              "\n",
              "      const channel = await google.colab.kernel.comms.open(id);\n",
              "      // Send a message to notify the kernel that we're ready.\n",
              "      channel.send({})\n",
              "\n",
              "      for await (const message of channel.messages) {\n",
              "        // Send a message to notify the kernel that we're ready.\n",
              "        channel.send({})\n",
              "        if (message.buffers) {\n",
              "          for (const buffer of message.buffers) {\n",
              "            buffers.push(buffer);\n",
              "            downloaded += buffer.byteLength;\n",
              "            progress.value = downloaded;\n",
              "          }\n",
              "        }\n",
              "      }\n",
              "      const blob = new Blob(buffers, {type: 'application/binary'});\n",
              "      const a = document.createElement('a');\n",
              "      a.href = window.URL.createObjectURL(blob);\n",
              "      a.download = filename;\n",
              "      div.appendChild(a);\n",
              "      a.click();\n",
              "      div.remove();\n",
              "    }\n",
              "  "
            ]
          },
          "metadata": {}
        },
        {
          "output_type": "display_data",
          "data": {
            "text/plain": [
              "<IPython.core.display.Javascript object>"
            ],
            "application/javascript": [
              "download(\"download_3a592617-cae4-46b7-bf2d-ff7bcefcf396\", \"model.pkl\", 263208)"
            ]
          },
          "metadata": {}
        },
        {
          "output_type": "display_data",
          "data": {
            "text/plain": [
              "<IPython.core.display.Javascript object>"
            ],
            "application/javascript": [
              "\n",
              "    async function download(id, filename, size) {\n",
              "      if (!google.colab.kernel.accessAllowed) {\n",
              "        return;\n",
              "      }\n",
              "      const div = document.createElement('div');\n",
              "      const label = document.createElement('label');\n",
              "      label.textContent = `Downloading \"${filename}\": `;\n",
              "      div.appendChild(label);\n",
              "      const progress = document.createElement('progress');\n",
              "      progress.max = size;\n",
              "      div.appendChild(progress);\n",
              "      document.body.appendChild(div);\n",
              "\n",
              "      const buffers = [];\n",
              "      let downloaded = 0;\n",
              "\n",
              "      const channel = await google.colab.kernel.comms.open(id);\n",
              "      // Send a message to notify the kernel that we're ready.\n",
              "      channel.send({})\n",
              "\n",
              "      for await (const message of channel.messages) {\n",
              "        // Send a message to notify the kernel that we're ready.\n",
              "        channel.send({})\n",
              "        if (message.buffers) {\n",
              "          for (const buffer of message.buffers) {\n",
              "            buffers.push(buffer);\n",
              "            downloaded += buffer.byteLength;\n",
              "            progress.value = downloaded;\n",
              "          }\n",
              "        }\n",
              "      }\n",
              "      const blob = new Blob(buffers, {type: 'application/binary'});\n",
              "      const a = document.createElement('a');\n",
              "      a.href = window.URL.createObjectURL(blob);\n",
              "      a.download = filename;\n",
              "      div.appendChild(a);\n",
              "      a.click();\n",
              "      div.remove();\n",
              "    }\n",
              "  "
            ]
          },
          "metadata": {}
        },
        {
          "output_type": "display_data",
          "data": {
            "text/plain": [
              "<IPython.core.display.Javascript object>"
            ],
            "application/javascript": [
              "download(\"download_b49f4eca-0fd6-4102-bcc7-eca2bd3477d7\", \"model_features.pkl\", 626)"
            ]
          },
          "metadata": {}
        }
      ]
    }
  ]
}
