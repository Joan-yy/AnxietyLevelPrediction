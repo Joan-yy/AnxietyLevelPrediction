{
  "nbformat": 4,
  "nbformat_minor": 0,
  "metadata": {
    "colab": {
      "provenance": [],
      "authorship_tag": "ABX9TyOoHZTymIvHf5cqTgSObRBn",
      "include_colab_link": true
    },
    "kernelspec": {
      "name": "python3",
      "display_name": "Python 3"
    },
    "language_info": {
      "name": "python"
    }
  },
  "cells": [
    {
      "cell_type": "markdown",
      "metadata": {
        "id": "view-in-github",
        "colab_type": "text"
      },
      "source": [
        "<a href=\"https://colab.research.google.com/github/Joan-yy/AnxietyLevelPrediction/blob/main/IDS_GA2_LogisticRegression_FinalVersion.ipynb\" target=\"_parent\"><img src=\"https://colab.research.google.com/assets/colab-badge.svg\" alt=\"Open In Colab\"/></a>"
      ]
    },
    {
      "cell_type": "markdown",
      "source": [
        "##1. Importing libraries"
      ],
      "metadata": {
        "id": "ufU7XL__UAHp"
      }
    },
    {
      "cell_type": "code",
      "execution_count": null,
      "metadata": {
        "id": "0ndniJpCR23v"
      },
      "outputs": [],
      "source": [
        "# importing necessary libraries\n",
        "import pandas as pd\n",
        "import numpy as np\n",
        "import os\n",
        "import matplotlib.pyplot as plt\n",
        "import seaborn as sns\n",
        "from scipy.stats import uniform, randint\n",
        "from sklearn.metrics import confusion_matrix, ConfusionMatrixDisplay, classification_report, accuracy_score, roc_auc_score, roc_curve, f1_score\n",
        "from scipy.stats import uniform, randint\n",
        "from sklearn.metrics import make_scorer\n",
        "import joblib\n",
        "from sklearn.model_selection import train_test_split, GridSearchCV\n",
        "from sklearn.linear_model import LogisticRegression\n",
        "from sklearn.feature_selection import RFE\n",
        "from sklearn.preprocessing import StandardScaler, label_binarize, LabelEncoder\n"
      ]
    },
    {
      "cell_type": "markdown",
      "source": [
        "## 2. Importing dataset"
      ],
      "metadata": {
        "id": "cMA8yh8LUFE1"
      }
    },
    {
      "cell_type": "code",
      "source": [
        "# import dataset from google drive\n",
        "from google.colab import drive\n",
        "drive.mount('/content/drive')\n",
        "\n",
        "# Load dataset\n",
        "df = pd.read_csv('/content/drive/MyDrive/Year2Sem2/Dataset/enhanced_anxiety_dataset.csv')"
      ],
      "metadata": {
        "colab": {
          "base_uri": "https://localhost:8080/"
        },
        "id": "ZpOoV_Cnd-eb",
        "outputId": "469807f3-c18c-4400-d1d9-abac87534574"
      },
      "execution_count": null,
      "outputs": [
        {
          "output_type": "stream",
          "name": "stdout",
          "text": [
            "Drive already mounted at /content/drive; to attempt to forcibly remount, call drive.mount(\"/content/drive\", force_remount=True).\n"
          ]
        }
      ]
    },
    {
      "cell_type": "markdown",
      "source": [
        "## 3. Dataset Preprocessing and Feature Engineering"
      ],
      "metadata": {
        "id": "u2_uIqYiUKWW"
      }
    },
    {
      "cell_type": "code",
      "source": [
        "# Categorize anxiety levels\n",
        "def map_anxiety_level(score):\n",
        "    if score <= 3.0:\n",
        "        return \"Low\"\n",
        "    elif score <= 6.0:\n",
        "        return \"Medium\"\n",
        "    else:\n",
        "        return \"High\"\n",
        "\n",
        "df['Anxiety_Category'] = df['Anxiety Level (1-10)'].apply(map_anxiety_level)\n",
        "df = df.drop(['Anxiety Level (1-10)'], axis=1, errors='ignore')\n",
        "\n",
        "# Encode binary variables\n",
        "binary_cols = ['Gender', 'Smoking', 'Family History of Anxiety', 'Dizziness', 'Medication', 'Recent Major Life Event']\n",
        "for col in binary_cols:\n",
        "    df[col] = df[col].map({'Yes': 1, 'No': 0, 'Male': 1, 'Female': 0})\n",
        "\n",
        "# One-hot encode Occupation\n",
        "df = pd.get_dummies(df, columns=['Occupation'], drop_first=True)\n",
        "\n",
        "# Drop rows with missing values\n",
        "df = df.dropna()\n",
        "\n",
        "# Separate features and target\n",
        "X = df.drop('Anxiety_Category', axis=1)\n",
        "y = df['Anxiety_Category']\n",
        "\n",
        "# Encode target to numeric\n",
        "y_encoded = y.map({'Low': 0, 'Medium': 1, 'High': 2})\n",
        "class_names = ['Low', 'Medium', 'High']  # Needed for confusion matrix/ROC"
      ],
      "metadata": {
        "id": "QWfKupMZcyEM"
      },
      "execution_count": null,
      "outputs": []
    },
    {
      "cell_type": "markdown",
      "source": [
        "## 4. Training-Testing Set Splitting\n",
        "## 5. Feature Scaling"
      ],
      "metadata": {
        "id": "AOLZntXbUT3r"
      }
    },
    {
      "cell_type": "code",
      "source": [
        "# Train/test split\n",
        "X_train, X_test, y_train, y_test = train_test_split(X, y_encoded, test_size=0.3, random_state=42)\n",
        "\n",
        "# Scale features\n",
        "scaler = StandardScaler()\n",
        "X_train_scaled = scaler.fit_transform(X_train)\n",
        "X_test_scaled = scaler.transform(X_test)"
      ],
      "metadata": {
        "id": "cNwx-DIDhYek"
      },
      "execution_count": null,
      "outputs": []
    },
    {
      "cell_type": "markdown",
      "source": [
        "##6. Logistic Regression Model Training"
      ],
      "metadata": {
        "id": "KGWnqEH7Umd1"
      }
    },
    {
      "cell_type": "code",
      "source": [
        "# Train logistic regression\n",
        "model = LogisticRegression(multi_class='multinomial', solver='lbfgs', max_iter=1000)\n",
        "model.fit(X_train_scaled, y_train)\n",
        "\n",
        "# Predict and evaluate\n",
        "y_pred = model.predict(X_test_scaled)"
      ],
      "metadata": {
        "colab": {
          "base_uri": "https://localhost:8080/"
        },
        "id": "5d0U8R1cfpG8",
        "outputId": "51115ef5-77cf-4912-bb69-bf0251ba685a"
      },
      "execution_count": null,
      "outputs": [
        {
          "output_type": "stream",
          "name": "stderr",
          "text": [
            "/usr/local/lib/python3.11/dist-packages/sklearn/linear_model/_logistic.py:1247: FutureWarning: 'multi_class' was deprecated in version 1.5 and will be removed in 1.7. From then on, it will always use 'multinomial'. Leave it to its default value to avoid this warning.\n",
            "  warnings.warn(\n"
          ]
        }
      ]
    },
    {
      "cell_type": "markdown",
      "source": [
        "## Result of Original Logistic Regression Model"
      ],
      "metadata": {
        "id": "TQIx8vWBUvJe"
      }
    },
    {
      "cell_type": "code",
      "source": [
        "print(\"\\nAccuracy:\", accuracy_score(y_test, y_pred))\n",
        "print(\"F1 Score:\", f1_score(y_test, y_pred, average='macro'))\n",
        "\n",
        "# ROC-AUC\n",
        "y_test_bin = label_binarize(y_test, classes=[0, 1, 2])\n",
        "y_pred_prob = model.predict_proba(X_test_scaled)\n",
        "roc_auc = roc_auc_score(y_test_bin, y_pred_prob, average='macro', multi_class='ovr')\n",
        "print(\"ROC-AUC Score:\", roc_auc)\n",
        "\n",
        "print(\"\\nClassification Report:\\n\", classification_report(y_test, y_pred, target_names=class_names))\n",
        "\n",
        "# Confusion Matrix\n",
        "cm = confusion_matrix(y_test, y_pred)\n",
        "sns.heatmap(cm, annot=True, fmt='d', cmap='Blues', xticklabels=class_names, yticklabels=class_names)\n",
        "plt.xlabel('Predicted')\n",
        "plt.ylabel('Actual')\n",
        "plt.title('Confusion Matrix')\n",
        "plt.show()"
      ],
      "metadata": {
        "colab": {
          "base_uri": "https://localhost:8080/",
          "height": 764
        },
        "id": "5YRTP1k4fv8_",
        "outputId": "f02ec46e-4b53-49a0-f523-a009520d1cc8"
      },
      "execution_count": null,
      "outputs": [
        {
          "output_type": "stream",
          "name": "stdout",
          "text": [
            "\n",
            "Accuracy: 0.7870996842580064\n",
            "F1 Score: 0.8134214466449644\n",
            "ROC-AUC Score: 0.9087514103004172\n",
            "\n",
            "Classification Report:\n",
            "               precision    recall  f1-score   support\n",
            "\n",
            "         Low       0.78      0.82      0.80      1032\n",
            "      Medium       0.77      0.74      0.75       961\n",
            "        High       0.92      0.86      0.89       224\n",
            "\n",
            "    accuracy                           0.79      2217\n",
            "   macro avg       0.82      0.81      0.81      2217\n",
            "weighted avg       0.79      0.79      0.79      2217\n",
            "\n"
          ]
        },
        {
          "output_type": "display_data",
          "data": {
            "text/plain": [
              "<Figure size 640x480 with 2 Axes>"
            ],
            "image/png": "[encoded data removed]"
          },
          "metadata": {}
        }
      ]
    },
    {
      "cell_type": "markdown",
      "source": [
        "## Exporting .pkl files"
      ],
      "metadata": {
        "id": "eOUF0CzJU7vh"
      }
    },
    {
      "cell_type": "code",
      "source": [
        "# Save model\n",
        "joblib.dump(model, 'lr_model.pkl')\n",
        "\n",
        "# Save columns to use in Streamlit app\n",
        "joblib.dump(X.columns.tolist(), 'model_features_lr.pkl')\n",
        "\n",
        "from google.colab import files\n",
        "files.download('lr_model.pkl')\n",
        "files.download('model_features_lr.pkl')"
      ],
      "metadata": {
        "colab": {
          "base_uri": "https://localhost:8080/",
          "height": 17
        },
        "id": "whcufrbDf0uC",
        "outputId": "b2d7fb2d-1b9c-4232-c7ee-3a66e97f588c"
      },
      "execution_count": null,
      "outputs": [
        {
          "output_type": "display_data",
          "data": {
            "text/plain": [
              "<IPython.core.display.Javascript object>"
            ],
            "application/javascript": [
              "\n",
              "    async function download(id, filename, size) {\n",
              "      if (!google.colab.kernel.accessAllowed) {\n",
              "        return;\n",
              "      }\n",
              "      const div = document.createElement('div');\n",
              "      const label = document.createElement('label');\n",
              "      label.textContent = `Downloading \"${filename}\": `;\n",
              "      div.appendChild(label);\n",
              "      const progress = document.createElement('progress');\n",
              "      progress.max = size;\n",
              "      div.appendChild(progress);\n",
              "      document.body.appendChild(div);\n",
              "\n",
              "      const buffers = [];\n",
              "      let downloaded = 0;\n",
              "\n",
              "      const channel = await google.colab.kernel.comms.open(id);\n",
              "      // Send a message to notify the kernel that we're ready.\n",
              "      channel.send({})\n",
              "\n",
              "      for await (const message of channel.messages) {\n",
              "        // Send a message to notify the kernel that we're ready.\n",
              "        channel.send({})\n",
              "        if (message.buffers) {\n",
              "          for (const buffer of message.buffers) {\n",
              "            buffers.push(buffer);\n",
              "            downloaded += buffer.byteLength;\n",
              "            progress.value = downloaded;\n",
              "          }\n",
              "        }\n",
              "      }\n",
              "      const blob = new Blob(buffers, {type: 'application/binary'});\n",
              "      const a = document.createElement('a');\n",
              "      a.href = window.URL.createObjectURL(blob);\n",
              "      a.download = filename;\n",
              "      div.appendChild(a);\n",
              "      a.click();\n",
              "      div.remove();\n",
              "    }\n",
              "  "
            ]
          },
          "metadata": {}
        },
        {
          "output_type": "display_data",
          "data": {
            "text/plain": [
              "<IPython.core.display.Javascript object>"
            ],
            "application/javascript": [
              "download(\"download_8ce3653b-e861-4e12-a871-2dd23bb98a45\", \"lr_model.pkl\", 1599)"
            ]
          },
          "metadata": {}
        },
        {
          "output_type": "display_data",
          "data": {
            "text/plain": [
              "<IPython.core.display.Javascript object>"
            ],
            "application/javascript": [
              "\n",
              "    async function download(id, filename, size) {\n",
              "      if (!google.colab.kernel.accessAllowed) {\n",
              "        return;\n",
              "      }\n",
              "      const div = document.createElement('div');\n",
              "      const label = document.createElement('label');\n",
              "      label.textContent = `Downloading \"${filename}\": `;\n",
              "      div.appendChild(label);\n",
              "      const progress = document.createElement('progress');\n",
              "      progress.max = size;\n",
              "      div.appendChild(progress);\n",
              "      document.body.appendChild(div);\n",
              "\n",
              "      const buffers = [];\n",
              "      let downloaded = 0;\n",
              "\n",
              "      const channel = await google.colab.kernel.comms.open(id);\n",
              "      // Send a message to notify the kernel that we're ready.\n",
              "      channel.send({})\n",
              "\n",
              "      for await (const message of channel.messages) {\n",
              "        // Send a message to notify the kernel that we're ready.\n",
              "        channel.send({})\n",
              "        if (message.buffers) {\n",
              "          for (const buffer of message.buffers) {\n",
              "            buffers.push(buffer);\n",
              "            downloaded += buffer.byteLength;\n",
              "            progress.value = downloaded;\n",
              "          }\n",
              "        }\n",
              "      }\n",
              "      const blob = new Blob(buffers, {type: 'application/binary'});\n",
              "      const a = document.createElement('a');\n",
              "      a.href = window.URL.createObjectURL(blob);\n",
              "      a.download = filename;\n",
              "      div.appendChild(a);\n",
              "      a.click();\n",
              "      div.remove();\n",
              "    }\n",
              "  "
            ]
          },
          "metadata": {}
        },
        {
          "output_type": "display_data",
          "data": {
            "text/plain": [
              "<IPython.core.display.Javascript object>"
            ],
            "application/javascript": [
              "download(\"download_f8939a89-8b92-4046-8403-4cf62b26623b\", \"model_features_lr.pkl\", 626)"
            ]
          },
          "metadata": {}
        }
      ]
    },
    {
      "cell_type": "markdown",
      "source": [
        "## 7. Hyperparameter Tuning"
      ],
      "metadata": {
        "id": "Lx0JE10uU-88"
      }
    },
    {
      "cell_type": "code",
      "source": [
        "# Grid search for best hyperparameters\n",
        "param_grid = {\n",
        "    'C': [0.01, 0.1, 1, 10, 100],  # Regularization strength\n",
        "    'solver': ['lbfgs', 'saga'],   # Solvers that support multinomial\n",
        "    'penalty': ['l2']              # L2 regularization\n",
        "}\n",
        "\n",
        "grid_search = GridSearchCV(\n",
        "    LogisticRegression(multi_class='multinomial', max_iter=1000),\n",
        "    param_grid,\n",
        "    cv=5,\n",
        "    scoring='accuracy',\n",
        "    n_jobs=-1\n",
        ")\n",
        "\n",
        "grid_search.fit(X_train_scaled, y_train)\n",
        "\n",
        "# Best model\n",
        "best_model = grid_search.best_estimator_\n",
        "print(\"Best Parameters:\", grid_search.best_params_)\n",
        "\n",
        "# Predict on test data\n",
        "y_pred = best_model.predict(X_test_scaled)\n",
        "y_pred_prob = best_model.predict_proba(X_test_scaled)\n",
        "\n",
        "# Accuracy\n",
        "print(\"\\nAccuracy:\", accuracy_score(y_test, y_pred))\n",
        "print(\"F1 Score (Macro):\", f1_score(y_test, y_pred, average='macro'))\n",
        "\n",
        "# ROC-AUC\n",
        "y_test_bin = label_binarize(y_test, classes=[0, 1, 2])\n",
        "roc_auc = roc_auc_score(y_test_bin, y_pred_prob, average='macro', multi_class='ovr')\n",
        "print(\"Macro ROC-AUC Score:\", roc_auc)\n",
        "\n",
        "# Classification Report\n",
        "print(\"\\nClassification Report:\\n\", classification_report(y_test, y_pred, target_names=['Low', 'Medium', 'High']))\n",
        "\n",
        "\n",
        "# Confusion Matrix\n",
        "cm = confusion_matrix(y_test, y_pred)\n",
        "sns.heatmap(cm, annot=True, fmt='d', cmap='Blues', xticklabels=['Low', 'Medium', 'High'], yticklabels=['Low', 'Medium', 'High'])\n",
        "plt.xlabel('Predicted')\n",
        "plt.ylabel('Actual')\n",
        "plt.title('Confusion Matrix')\n",
        "plt.show()\n",
        "\n"
      ],
      "metadata": {
        "colab": {
          "base_uri": "https://localhost:8080/",
          "height": 838
        },
        "id": "MYpLofLcYGo-",
        "outputId": "c9b251b8-60cd-4527-e297-45395d1a71df"
      },
      "execution_count": null,
      "outputs": [
        {
          "output_type": "stream",
          "name": "stderr",
          "text": [
            "/usr/local/lib/python3.11/dist-packages/sklearn/linear_model/_logistic.py:1247: FutureWarning: 'multi_class' was deprecated in version 1.5 and will be removed in 1.7. From then on, it will always use 'multinomial'. Leave it to its default value to avoid this warning.\n",
            "  warnings.warn(\n"
          ]
        },
        {
          "output_type": "stream",
          "name": "stdout",
          "text": [
            "Best Parameters: {'C': 1, 'penalty': 'l2', 'solver': 'saga'}\n",
            "\n",
            "Accuracy: 0.7866486242670275\n",
            "F1 Score (Macro): 0.8130995336853731\n",
            "Macro ROC-AUC Score: 0.9087568898010456\n",
            "\n",
            "Classification Report:\n",
            "               precision    recall  f1-score   support\n",
            "\n",
            "         Low       0.78      0.82      0.80      1032\n",
            "      Medium       0.76      0.74      0.75       961\n",
            "        High       0.92      0.86      0.89       224\n",
            "\n",
            "    accuracy                           0.79      2217\n",
            "   macro avg       0.82      0.81      0.81      2217\n",
            "weighted avg       0.79      0.79      0.79      2217\n",
            "\n"
          ]
        },
        {
          "output_type": "display_data",
          "data": {
            "text/plain": [
              "<Figure size 640x480 with 2 Axes>"
            ],
            "image/png": "[encoded data removed]"
          },
          "metadata": {}
        }
      ]
    }
  ]
}